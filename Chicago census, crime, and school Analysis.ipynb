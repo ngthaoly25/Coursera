{
 "cells": [
  {
   "cell_type": "code",
   "execution_count": 1,
   "id": "b146787b",
   "metadata": {},
   "outputs": [],
   "source": [
    "%load_ext sql"
   ]
  },
  {
   "cell_type": "code",
   "execution_count": 80,
   "id": "21377f19",
   "metadata": {},
   "outputs": [],
   "source": [
    "%sql ibm_db_sa://cpd04249:7BHPqsbYQUw9pkFs@ea286ace-86c7-4d5b-8580-3fbfa46b1c66.bs2io90l08kqb1od8lcg.databases.appdomain.cloud:31505/bludb?security=SSL"
   ]
  },
  {
   "cell_type": "code",
   "execution_count": 3,
   "id": "0f6b568f",
   "metadata": {},
   "outputs": [
    {
     "name": "stdout",
     "output_type": "stream",
     "text": [
      " * ibm_db_sa://cpd04249:***@ea286ace-86c7-4d5b-8580-3fbfa46b1c66.bs2io90l08kqb1od8lcg.databases.appdomain.cloud:31505/bludb\n",
      "Done.\n"
     ]
    },
    {
     "data": {
      "text/html": [
       "<table>\n",
       "    <tr>\n",
       "        <th>tabschema</th>\n",
       "        <th>tabname</th>\n",
       "        <th>create_time</th>\n",
       "    </tr>\n",
       "    <tr>\n",
       "        <td>CPD04249</td>\n",
       "        <td>CENSUS_DATA</td>\n",
       "        <td>2023-01-01 05:22:17.838223</td>\n",
       "    </tr>\n",
       "    <tr>\n",
       "        <td>CPD04249</td>\n",
       "        <td>CHICAGO_PUBLIC_SCHOOLS</td>\n",
       "        <td>2023-01-01 05:23:17.917781</td>\n",
       "    </tr>\n",
       "    <tr>\n",
       "        <td>CPD04249</td>\n",
       "        <td>CHICAGO_CRIME_DATA</td>\n",
       "        <td>2023-01-01 05:24:01.825725</td>\n",
       "    </tr>\n",
       "    <tr>\n",
       "        <td>CPD04249</td>\n",
       "        <td>PETSALE</td>\n",
       "        <td>2022-12-31 12:22:26.751643</td>\n",
       "    </tr>\n",
       "    <tr>\n",
       "        <td>CPD04249</td>\n",
       "        <td>PET</td>\n",
       "        <td>2022-12-31 12:22:26.850260</td>\n",
       "    </tr>\n",
       "    <tr>\n",
       "        <td>CPD04249</td>\n",
       "        <td>INSTRUCTOR</td>\n",
       "        <td>2022-12-31 15:58:09.731544</td>\n",
       "    </tr>\n",
       "    <tr>\n",
       "        <td>CPD04249</td>\n",
       "        <td>INTERNATIONAL_STUDENT_TEST_SCORES</td>\n",
       "        <td>2022-12-31 17:48:32.157618</td>\n",
       "    </tr>\n",
       "</table>"
      ],
      "text/plain": [
       "[('CPD04249', 'CENSUS_DATA', datetime.datetime(2023, 1, 1, 5, 22, 17, 838223)),\n",
       " ('CPD04249', 'CHICAGO_PUBLIC_SCHOOLS', datetime.datetime(2023, 1, 1, 5, 23, 17, 917781)),\n",
       " ('CPD04249', 'CHICAGO_CRIME_DATA', datetime.datetime(2023, 1, 1, 5, 24, 1, 825725)),\n",
       " ('CPD04249', 'PETSALE', datetime.datetime(2022, 12, 31, 12, 22, 26, 751643)),\n",
       " ('CPD04249', 'PET', datetime.datetime(2022, 12, 31, 12, 22, 26, 850260)),\n",
       " ('CPD04249', 'INSTRUCTOR', datetime.datetime(2022, 12, 31, 15, 58, 9, 731544)),\n",
       " ('CPD04249', 'INTERNATIONAL_STUDENT_TEST_SCORES', datetime.datetime(2022, 12, 31, 17, 48, 32, 157618))]"
      ]
     },
     "execution_count": 3,
     "metadata": {},
     "output_type": "execute_result"
    }
   ],
   "source": [
    "%sql select TABSCHEMA, TABNAME, CREATE_TIME from SYSCAT.TABLES where TABSCHEMA = 'CPD04249'"
   ]
  },
  {
   "cell_type": "code",
   "execution_count": 4,
   "id": "d91bbb7b",
   "metadata": {},
   "outputs": [
    {
     "name": "stdout",
     "output_type": "stream",
     "text": [
      " * ibm_db_sa://cpd04249:***@ea286ace-86c7-4d5b-8580-3fbfa46b1c66.bs2io90l08kqb1od8lcg.databases.appdomain.cloud:31505/bludb\n",
      "Done.\n"
     ]
    },
    {
     "data": {
      "text/html": [
       "<table>\n",
       "    <tr>\n",
       "        <th>id</th>\n",
       "        <th>case_number</th>\n",
       "        <th>DATE</th>\n",
       "        <th>block</th>\n",
       "        <th>iucr</th>\n",
       "        <th>primary_type</th>\n",
       "        <th>description</th>\n",
       "        <th>location_description</th>\n",
       "        <th>arrest</th>\n",
       "        <th>domestic</th>\n",
       "        <th>beat</th>\n",
       "        <th>district</th>\n",
       "        <th>ward</th>\n",
       "        <th>community_area_number</th>\n",
       "        <th>fbicode</th>\n",
       "        <th>x_coordinate</th>\n",
       "        <th>y_coordinate</th>\n",
       "        <th>YEAR</th>\n",
       "        <th>latitude</th>\n",
       "        <th>longitude</th>\n",
       "        <th>location</th>\n",
       "    </tr>\n",
       "    <tr>\n",
       "        <td>3512276</td>\n",
       "        <td>HK587712</td>\n",
       "        <td>2004-08-28</td>\n",
       "        <td>047XX S KEDZIE AVE</td>\n",
       "        <td>890</td>\n",
       "        <td>THEFT</td>\n",
       "        <td>FROM BUILDING</td>\n",
       "        <td>SMALL RETAIL STORE</td>\n",
       "        <td>FALSE</td>\n",
       "        <td>FALSE</td>\n",
       "        <td>911</td>\n",
       "        <td>9</td>\n",
       "        <td>14</td>\n",
       "        <td>58</td>\n",
       "        <td>6</td>\n",
       "        <td>1155838</td>\n",
       "        <td>1873050</td>\n",
       "        <td>2004</td>\n",
       "        <td>41.80744050</td>\n",
       "        <td>-87.70395585</td>\n",
       "        <td>(41.8074405, -87.703955849)</td>\n",
       "    </tr>\n",
       "    <tr>\n",
       "        <td>3406613</td>\n",
       "        <td>HK456306</td>\n",
       "        <td>2004-06-26</td>\n",
       "        <td>009XX N CENTRAL PARK AVE</td>\n",
       "        <td>820</td>\n",
       "        <td>THEFT</td>\n",
       "        <td>$500 AND UNDER</td>\n",
       "        <td>OTHER</td>\n",
       "        <td>FALSE</td>\n",
       "        <td>FALSE</td>\n",
       "        <td>1112</td>\n",
       "        <td>11</td>\n",
       "        <td>27</td>\n",
       "        <td>23</td>\n",
       "        <td>6</td>\n",
       "        <td>1152206</td>\n",
       "        <td>1906127</td>\n",
       "        <td>2004</td>\n",
       "        <td>41.89827996</td>\n",
       "        <td>-87.71640551</td>\n",
       "        <td>(41.898279962, -87.716405505)</td>\n",
       "    </tr>\n",
       "    <tr>\n",
       "        <td>8002131</td>\n",
       "        <td>HT233595</td>\n",
       "        <td>2011-04-04</td>\n",
       "        <td>043XX S WABASH AVE</td>\n",
       "        <td>820</td>\n",
       "        <td>THEFT</td>\n",
       "        <td>$500 AND UNDER</td>\n",
       "        <td>NURSING HOME/RETIREMENT HOME</td>\n",
       "        <td>FALSE</td>\n",
       "        <td>FALSE</td>\n",
       "        <td>221</td>\n",
       "        <td>2</td>\n",
       "        <td>3</td>\n",
       "        <td>38</td>\n",
       "        <td>6</td>\n",
       "        <td>1177436</td>\n",
       "        <td>1876313</td>\n",
       "        <td>2011</td>\n",
       "        <td>41.81593313</td>\n",
       "        <td>-87.62464213</td>\n",
       "        <td>(41.815933131, -87.624642127)</td>\n",
       "    </tr>\n",
       "</table>"
      ],
      "text/plain": [
       "[(3512276, 'HK587712', datetime.date(2004, 8, 28), '047XX S KEDZIE AVE', '890', 'THEFT', 'FROM BUILDING', 'SMALL RETAIL STORE', 'FALSE', 'FALSE', 911, 9, 14, 58, '6', 1155838, 1873050, 2004, Decimal('41.80744050'), Decimal('-87.70395585'), '(41.8074405, -87.703955849)'),\n",
       " (3406613, 'HK456306', datetime.date(2004, 6, 26), '009XX N CENTRAL PARK AVE', '820', 'THEFT', '$500 AND UNDER', 'OTHER', 'FALSE', 'FALSE', 1112, 11, 27, 23, '6', 1152206, 1906127, 2004, Decimal('41.89827996'), Decimal('-87.71640551'), '(41.898279962, -87.716405505)'),\n",
       " (8002131, 'HT233595', datetime.date(2011, 4, 4), '043XX S WABASH AVE', '820', 'THEFT', '$500 AND UNDER', 'NURSING HOME/RETIREMENT HOME', 'FALSE', 'FALSE', 221, 2, 3, 38, '6', 1177436, 1876313, 2011, Decimal('41.81593313'), Decimal('-87.62464213'), '(41.815933131, -87.624642127)')]"
      ]
     },
     "execution_count": 4,
     "metadata": {},
     "output_type": "execute_result"
    }
   ],
   "source": [
    "%sql select * from CHICAGO_CRIME_DATA limit 3;"
   ]
  },
  {
   "cell_type": "code",
   "execution_count": 5,
   "id": "30d43016",
   "metadata": {},
   "outputs": [
    {
     "name": "stdout",
     "output_type": "stream",
     "text": [
      " * ibm_db_sa://cpd04249:***@ea286ace-86c7-4d5b-8580-3fbfa46b1c66.bs2io90l08kqb1od8lcg.databases.appdomain.cloud:31505/bludb\n",
      "Done.\n"
     ]
    },
    {
     "data": {
      "text/html": [
       "<table>\n",
       "    <tr>\n",
       "        <th>community_area_number</th>\n",
       "        <th>community_area_name</th>\n",
       "        <th>percent_of_housing_crowded</th>\n",
       "        <th>percent_households_below_poverty</th>\n",
       "        <th>percent_aged_16__unemployed</th>\n",
       "        <th>percent_aged_25__without_high_school_diploma</th>\n",
       "        <th>percent_aged_under_18_or_over_64</th>\n",
       "        <th>per_capita_income</th>\n",
       "        <th>hardship_index</th>\n",
       "    </tr>\n",
       "    <tr>\n",
       "        <td>1</td>\n",
       "        <td>Rogers Park</td>\n",
       "        <td>7.7</td>\n",
       "        <td>23.6</td>\n",
       "        <td>8.7</td>\n",
       "        <td>18.2</td>\n",
       "        <td>27.5</td>\n",
       "        <td>23939</td>\n",
       "        <td>39</td>\n",
       "    </tr>\n",
       "    <tr>\n",
       "        <td>2</td>\n",
       "        <td>West Ridge</td>\n",
       "        <td>7.8</td>\n",
       "        <td>17.2</td>\n",
       "        <td>8.8</td>\n",
       "        <td>20.8</td>\n",
       "        <td>38.5</td>\n",
       "        <td>23040</td>\n",
       "        <td>46</td>\n",
       "    </tr>\n",
       "    <tr>\n",
       "        <td>3</td>\n",
       "        <td>Uptown</td>\n",
       "        <td>3.8</td>\n",
       "        <td>24.0</td>\n",
       "        <td>8.9</td>\n",
       "        <td>11.8</td>\n",
       "        <td>22.2</td>\n",
       "        <td>35787</td>\n",
       "        <td>20</td>\n",
       "    </tr>\n",
       "</table>"
      ],
      "text/plain": [
       "[(1, 'Rogers Park', Decimal('7.7'), Decimal('23.6'), Decimal('8.7'), Decimal('18.2'), Decimal('27.5'), 23939, 39),\n",
       " (2, 'West Ridge', Decimal('7.8'), Decimal('17.2'), Decimal('8.8'), Decimal('20.8'), Decimal('38.5'), 23040, 46),\n",
       " (3, 'Uptown', Decimal('3.8'), Decimal('24.0'), Decimal('8.9'), Decimal('11.8'), Decimal('22.2'), 35787, 20)]"
      ]
     },
     "execution_count": 5,
     "metadata": {},
     "output_type": "execute_result"
    }
   ],
   "source": [
    "%sql select * from CENSUS_DATA limit 3;"
   ]
  },
  {
   "cell_type": "code",
   "execution_count": 28,
   "id": "34e078a1",
   "metadata": {},
   "outputs": [
    {
     "name": "stdout",
     "output_type": "stream",
     "text": [
      " * ibm_db_sa://cpd04249:***@ea286ace-86c7-4d5b-8580-3fbfa46b1c66.bs2io90l08kqb1od8lcg.databases.appdomain.cloud:31505/bludb\n",
      "Done.\n"
     ]
    },
    {
     "data": {
      "text/html": [
       "<table>\n",
       "    <tr>\n",
       "        <th>school_id</th>\n",
       "        <th>name_of_school</th>\n",
       "        <th>Elementary, Middle, or High School</th>\n",
       "        <th>street_address</th>\n",
       "        <th>city</th>\n",
       "        <th>state</th>\n",
       "        <th>zip_code</th>\n",
       "        <th>phone_number</th>\n",
       "        <th>link</th>\n",
       "        <th>network_manager</th>\n",
       "        <th>collaborative_name</th>\n",
       "        <th>adequate_yearly_progress_made_</th>\n",
       "        <th>track_schedule</th>\n",
       "        <th>cps_performance_policy_status</th>\n",
       "        <th>cps_performance_policy_level</th>\n",
       "        <th>healthy_school_certified</th>\n",
       "        <th>safety_icon</th>\n",
       "        <th>safety_score</th>\n",
       "        <th>family_involvement_icon</th>\n",
       "        <th>family_involvement_score</th>\n",
       "        <th>environment_icon</th>\n",
       "        <th>environment_score</th>\n",
       "        <th>instruction_icon</th>\n",
       "        <th>instruction_score</th>\n",
       "        <th>leaders_icon</th>\n",
       "        <th>leaders_score</th>\n",
       "        <th>teachers_icon</th>\n",
       "        <th>teachers_score</th>\n",
       "        <th>parent_engagement_icon</th>\n",
       "        <th>parent_engagement_score</th>\n",
       "        <th>parent_environment_icon</th>\n",
       "        <th>parent_environment_score</th>\n",
       "        <th>average_student_attendance</th>\n",
       "        <th>rate_of_misconducts__per_100_students_</th>\n",
       "        <th>average_teacher_attendance</th>\n",
       "        <th>individualized_education_program_compliance_rate</th>\n",
       "        <th>pk_2_literacy__</th>\n",
       "        <th>pk_2_math__</th>\n",
       "        <th>gr3_5_grade_level_math__</th>\n",
       "        <th>gr3_5_grade_level_read__</th>\n",
       "        <th>gr3_5_keep_pace_read__</th>\n",
       "        <th>gr3_5_keep_pace_math__</th>\n",
       "        <th>gr6_8_grade_level_math__</th>\n",
       "        <th>gr6_8_grade_level_read__</th>\n",
       "        <th>gr6_8_keep_pace_math_</th>\n",
       "        <th>gr6_8_keep_pace_read__</th>\n",
       "        <th>gr_8_explore_math__</th>\n",
       "        <th>gr_8_explore_read__</th>\n",
       "        <th>isat_exceeding_math__</th>\n",
       "        <th>isat_exceeding_reading__</th>\n",
       "        <th>isat_value_add_math</th>\n",
       "        <th>isat_value_add_read</th>\n",
       "        <th>isat_value_add_color_math</th>\n",
       "        <th>isat_value_add_color_read</th>\n",
       "        <th>students_taking__algebra__</th>\n",
       "        <th>students_passing__algebra__</th>\n",
       "        <th>9th Grade EXPLORE (2009)</th>\n",
       "        <th>9th Grade EXPLORE (2010)</th>\n",
       "        <th>10th Grade PLAN (2009)</th>\n",
       "        <th>10th Grade PLAN (2010)</th>\n",
       "        <th>net_change_explore_and_plan</th>\n",
       "        <th>11th Grade Average ACT (2011)</th>\n",
       "        <th>net_change_plan_and_act</th>\n",
       "        <th>college_eligibility__</th>\n",
       "        <th>graduation_rate__</th>\n",
       "        <th>college_enrollment_rate__</th>\n",
       "        <th>college_enrollment</th>\n",
       "        <th>general_services_route</th>\n",
       "        <th>freshman_on_track_rate__</th>\n",
       "        <th>x_coordinate</th>\n",
       "        <th>y_coordinate</th>\n",
       "        <th>latitude</th>\n",
       "        <th>longitude</th>\n",
       "        <th>community_area_number</th>\n",
       "        <th>community_area_name</th>\n",
       "        <th>ward</th>\n",
       "        <th>police_district</th>\n",
       "        <th>location</th>\n",
       "    </tr>\n",
       "    <tr>\n",
       "        <td>610038</td>\n",
       "        <td>Abraham Lincoln Elementary School</td>\n",
       "        <td>ES</td>\n",
       "        <td>615 W Kemper Pl</td>\n",
       "        <td>Chicago</td>\n",
       "        <td>IL</td>\n",
       "        <td>60614</td>\n",
       "        <td>(773) 534-5720</td>\n",
       "        <td>http://schoolreports.cps.edu/SchoolProgressReport_Eng/Spring2011Eng_610038.pdf</td>\n",
       "        <td>Fullerton Elementary Network</td>\n",
       "        <td>NORTH-NORTHWEST SIDE COLLABORATIVE</td>\n",
       "        <td>No</td>\n",
       "        <td>Standard</td>\n",
       "        <td>Not on Probation</td>\n",
       "        <td>Level 1</td>\n",
       "        <td>Yes</td>\n",
       "        <td>Very Strong</td>\n",
       "        <td>99</td>\n",
       "        <td>Very Strong</td>\n",
       "        <td>99</td>\n",
       "        <td>Strong</td>\n",
       "        <td>74</td>\n",
       "        <td>Strong</td>\n",
       "        <td>66</td>\n",
       "        <td>Weak</td>\n",
       "        <td>65</td>\n",
       "        <td>Strong</td>\n",
       "        <td>70</td>\n",
       "        <td>Strong</td>\n",
       "        <td>56</td>\n",
       "        <td>Average</td>\n",
       "        <td>47</td>\n",
       "        <td>96.00%</td>\n",
       "        <td>2.0</td>\n",
       "        <td>96.40%</td>\n",
       "        <td>95.80%</td>\n",
       "        <td>80.1</td>\n",
       "        <td>43.3</td>\n",
       "        <td>89.6</td>\n",
       "        <td>84.9</td>\n",
       "        <td>60.7</td>\n",
       "        <td>62.6</td>\n",
       "        <td>81.9</td>\n",
       "        <td>85.2</td>\n",
       "        <td>52</td>\n",
       "        <td>62.4</td>\n",
       "        <td>66.3</td>\n",
       "        <td>77.9</td>\n",
       "        <td>69.7</td>\n",
       "        <td>64.4</td>\n",
       "        <td>0.2</td>\n",
       "        <td>0.9</td>\n",
       "        <td>Yellow</td>\n",
       "        <td>Green</td>\n",
       "        <td>67.1</td>\n",
       "        <td>54.5</td>\n",
       "        <td>NDA</td>\n",
       "        <td>NDA</td>\n",
       "        <td>NDA</td>\n",
       "        <td>NDA</td>\n",
       "        <td>NDA</td>\n",
       "        <td>NDA</td>\n",
       "        <td>NDA</td>\n",
       "        <td>NDA</td>\n",
       "        <td>NDA</td>\n",
       "        <td>NDA</td>\n",
       "        <td>813</td>\n",
       "        <td>33</td>\n",
       "        <td>NDA</td>\n",
       "        <td>1171699.458</td>\n",
       "        <td>1915829.428</td>\n",
       "        <td>41.92449696</td>\n",
       "        <td>-87.64452163</td>\n",
       "        <td>7</td>\n",
       "        <td>LINCOLN PARK</td>\n",
       "        <td>43</td>\n",
       "        <td>18</td>\n",
       "        <td>(41.92449696, -87.64452163)</td>\n",
       "    </tr>\n",
       "    <tr>\n",
       "        <td>610281</td>\n",
       "        <td>Adam Clayton Powell Paideia Community Academy Elementary School</td>\n",
       "        <td>ES</td>\n",
       "        <td>7511 S South Shore Dr</td>\n",
       "        <td>Chicago</td>\n",
       "        <td>IL</td>\n",
       "        <td>60649</td>\n",
       "        <td>(773) 535-6650</td>\n",
       "        <td>http://schoolreports.cps.edu/SchoolProgressReport_Eng/Spring2011Eng_610281.pdf</td>\n",
       "        <td>Skyway Elementary Network</td>\n",
       "        <td>SOUTH SIDE COLLABORATIVE</td>\n",
       "        <td>No</td>\n",
       "        <td>Track_E</td>\n",
       "        <td>Not on Probation</td>\n",
       "        <td>Level 1</td>\n",
       "        <td>No</td>\n",
       "        <td>Average</td>\n",
       "        <td>54</td>\n",
       "        <td>Strong</td>\n",
       "        <td>66</td>\n",
       "        <td>Strong</td>\n",
       "        <td>74</td>\n",
       "        <td>Very Strong</td>\n",
       "        <td>84</td>\n",
       "        <td>Weak</td>\n",
       "        <td>63</td>\n",
       "        <td>Strong</td>\n",
       "        <td>76</td>\n",
       "        <td>Weak</td>\n",
       "        <td>46</td>\n",
       "        <td>Average</td>\n",
       "        <td>50</td>\n",
       "        <td>95.60%</td>\n",
       "        <td>15.7</td>\n",
       "        <td>95.30%</td>\n",
       "        <td>100.00%</td>\n",
       "        <td>62.4</td>\n",
       "        <td>51.7</td>\n",
       "        <td>21.9</td>\n",
       "        <td>15.1</td>\n",
       "        <td>29</td>\n",
       "        <td>42.8</td>\n",
       "        <td>38.5</td>\n",
       "        <td>27.4</td>\n",
       "        <td>44.8</td>\n",
       "        <td>42.7</td>\n",
       "        <td>14.1</td>\n",
       "        <td>34.4</td>\n",
       "        <td>16.8</td>\n",
       "        <td>16.5</td>\n",
       "        <td>0.7</td>\n",
       "        <td>1.4</td>\n",
       "        <td>Green</td>\n",
       "        <td>Green</td>\n",
       "        <td>17.2</td>\n",
       "        <td>27.3</td>\n",
       "        <td>NDA</td>\n",
       "        <td>NDA</td>\n",
       "        <td>NDA</td>\n",
       "        <td>NDA</td>\n",
       "        <td>NDA</td>\n",
       "        <td>NDA</td>\n",
       "        <td>NDA</td>\n",
       "        <td>NDA</td>\n",
       "        <td>NDA</td>\n",
       "        <td>NDA</td>\n",
       "        <td>521</td>\n",
       "        <td>46</td>\n",
       "        <td>NDA</td>\n",
       "        <td>1196129.985</td>\n",
       "        <td>1856209.466</td>\n",
       "        <td>41.76032435</td>\n",
       "        <td>-87.55673627</td>\n",
       "        <td>43</td>\n",
       "        <td>SOUTH SHORE</td>\n",
       "        <td>7</td>\n",
       "        <td>4</td>\n",
       "        <td>(41.76032435, -87.55673627)</td>\n",
       "    </tr>\n",
       "    <tr>\n",
       "        <td>610185</td>\n",
       "        <td>Adlai E Stevenson Elementary School</td>\n",
       "        <td>ES</td>\n",
       "        <td>8010 S Kostner Ave</td>\n",
       "        <td>Chicago</td>\n",
       "        <td>IL</td>\n",
       "        <td>60652</td>\n",
       "        <td>(773) 535-2280</td>\n",
       "        <td>http://schoolreports.cps.edu/SchoolProgressReport_Eng/Spring2011Eng_610185.pdf</td>\n",
       "        <td>Midway Elementary Network</td>\n",
       "        <td>SOUTHWEST SIDE COLLABORATIVE</td>\n",
       "        <td>No</td>\n",
       "        <td>Standard</td>\n",
       "        <td>Not on Probation</td>\n",
       "        <td>Level 2</td>\n",
       "        <td>No</td>\n",
       "        <td>Strong</td>\n",
       "        <td>61</td>\n",
       "        <td>NDA</td>\n",
       "        <td>NDA</td>\n",
       "        <td>Average</td>\n",
       "        <td>50</td>\n",
       "        <td>Weak</td>\n",
       "        <td>36</td>\n",
       "        <td>Weak</td>\n",
       "        <td>NDA</td>\n",
       "        <td>NDA</td>\n",
       "        <td>NDA</td>\n",
       "        <td>Average</td>\n",
       "        <td>47</td>\n",
       "        <td>Weak</td>\n",
       "        <td>41</td>\n",
       "        <td>95.70%</td>\n",
       "        <td>2.3</td>\n",
       "        <td>94.70%</td>\n",
       "        <td>98.30%</td>\n",
       "        <td>53.7</td>\n",
       "        <td>26.6</td>\n",
       "        <td>38.3</td>\n",
       "        <td>34.7</td>\n",
       "        <td>43.7</td>\n",
       "        <td>57.3</td>\n",
       "        <td>48.8</td>\n",
       "        <td>39.2</td>\n",
       "        <td>46.8</td>\n",
       "        <td>44</td>\n",
       "        <td>7.5</td>\n",
       "        <td>21.9</td>\n",
       "        <td>18.3</td>\n",
       "        <td>15.5</td>\n",
       "        <td>-0.9</td>\n",
       "        <td>-1.0</td>\n",
       "        <td>Red</td>\n",
       "        <td>Red</td>\n",
       "        <td>NDA</td>\n",
       "        <td>NDA</td>\n",
       "        <td>NDA</td>\n",
       "        <td>NDA</td>\n",
       "        <td>NDA</td>\n",
       "        <td>NDA</td>\n",
       "        <td>NDA</td>\n",
       "        <td>NDA</td>\n",
       "        <td>NDA</td>\n",
       "        <td>NDA</td>\n",
       "        <td>NDA</td>\n",
       "        <td>NDA</td>\n",
       "        <td>1324</td>\n",
       "        <td>44</td>\n",
       "        <td>NDA</td>\n",
       "        <td>1148427.165</td>\n",
       "        <td>1851012.215</td>\n",
       "        <td>41.74711093</td>\n",
       "        <td>-87.73170248</td>\n",
       "        <td>70</td>\n",
       "        <td>ASHBURN</td>\n",
       "        <td>13</td>\n",
       "        <td>8</td>\n",
       "        <td>(41.74711093, -87.73170248)</td>\n",
       "    </tr>\n",
       "</table>"
      ],
      "text/plain": [
       "[(610038, 'Abraham Lincoln Elementary School', 'ES', '615 W Kemper Pl', 'Chicago', 'IL', 60614, '(773) 534-5720', 'http://schoolreports.cps.edu/SchoolProgressReport_Eng/Spring2011Eng_610038.pdf', 'Fullerton Elementary Network', 'NORTH-NORTHWEST SIDE COLLABORATIVE', 'No', 'Standard', 'Not on Probation', 'Level 1', 'Yes', 'Very Strong', 99, 'Very Strong', '99', 'Strong', 74, 'Strong', 66, 'Weak', '65', 'Strong', '70', 'Strong', '56', 'Average', '47', '96.00%', Decimal('2.0'), '96.40%', '95.80%', '80.1', '43.3', '89.6', '84.9', '60.7', '62.6', '81.9', '85.2', '52', '62.4', '66.3', '77.9', Decimal('69.7'), Decimal('64.4'), Decimal('0.2'), Decimal('0.9'), 'Yellow', 'Green', '67.1', '54.5', 'NDA', 'NDA', 'NDA', 'NDA', 'NDA', 'NDA', 'NDA', 'NDA', 'NDA', 'NDA', 813, 33, 'NDA', Decimal('1171699.458'), Decimal('1915829.428'), Decimal('41.92449696'), Decimal('-87.64452163'), 7, 'LINCOLN PARK', 43, 18, '(41.92449696, -87.64452163)'),\n",
       " (610281, 'Adam Clayton Powell Paideia Community Academy Elementary School', 'ES', '7511 S South Shore Dr', 'Chicago', 'IL', 60649, '(773) 535-6650', 'http://schoolreports.cps.edu/SchoolProgressReport_Eng/Spring2011Eng_610281.pdf', 'Skyway Elementary Network', 'SOUTH SIDE COLLABORATIVE', 'No', 'Track_E', 'Not on Probation', 'Level 1', 'No', 'Average', 54, 'Strong', '66', 'Strong', 74, 'Very Strong', 84, 'Weak', '63', 'Strong', '76', 'Weak', '46', 'Average', '50', '95.60%', Decimal('15.7'), '95.30%', '100.00%', '62.4', '51.7', '21.9', '15.1', '29', '42.8', '38.5', '27.4', '44.8', '42.7', '14.1', '34.4', Decimal('16.8'), Decimal('16.5'), Decimal('0.7'), Decimal('1.4'), 'Green', 'Green', '17.2', '27.3', 'NDA', 'NDA', 'NDA', 'NDA', 'NDA', 'NDA', 'NDA', 'NDA', 'NDA', 'NDA', 521, 46, 'NDA', Decimal('1196129.985'), Decimal('1856209.466'), Decimal('41.76032435'), Decimal('-87.55673627'), 43, 'SOUTH SHORE', 7, 4, '(41.76032435, -87.55673627)'),\n",
       " (610185, 'Adlai E Stevenson Elementary School', 'ES', '8010 S Kostner Ave', 'Chicago', 'IL', 60652, '(773) 535-2280', 'http://schoolreports.cps.edu/SchoolProgressReport_Eng/Spring2011Eng_610185.pdf', 'Midway Elementary Network', 'SOUTHWEST SIDE COLLABORATIVE', 'No', 'Standard', 'Not on Probation', 'Level 2', 'No', 'Strong', 61, 'NDA', 'NDA', 'Average', 50, 'Weak', 36, 'Weak', 'NDA', 'NDA', 'NDA', 'Average', '47', 'Weak', '41', '95.70%', Decimal('2.3'), '94.70%', '98.30%', '53.7', '26.6', '38.3', '34.7', '43.7', '57.3', '48.8', '39.2', '46.8', '44', '7.5', '21.9', Decimal('18.3'), Decimal('15.5'), Decimal('-0.9'), Decimal('-1.0'), 'Red', 'Red', 'NDA', 'NDA', 'NDA', 'NDA', 'NDA', 'NDA', 'NDA', 'NDA', 'NDA', 'NDA', 'NDA', 'NDA', 1324, 44, 'NDA', Decimal('1148427.165'), Decimal('1851012.215'), Decimal('41.74711093'), Decimal('-87.73170248'), 70, 'ASHBURN', 13, 8, '(41.74711093, -87.73170248)')]"
      ]
     },
     "execution_count": 28,
     "metadata": {},
     "output_type": "execute_result"
    }
   ],
   "source": [
    "%sql select * from CHICAGO_PUBLIC_SCHOOLS limit 3;"
   ]
  },
  {
   "cell_type": "code",
   "execution_count": 7,
   "id": "67275d49",
   "metadata": {},
   "outputs": [
    {
     "name": "stdout",
     "output_type": "stream",
     "text": [
      " * ibm_db_sa://cpd04249:***@ea286ace-86c7-4d5b-8580-3fbfa46b1c66.bs2io90l08kqb1od8lcg.databases.appdomain.cloud:31505/bludb\n",
      "Done.\n"
     ]
    },
    {
     "data": {
      "text/html": [
       "<table>\n",
       "    <tr>\n",
       "        <th>1</th>\n",
       "    </tr>\n",
       "    <tr>\n",
       "        <td>533</td>\n",
       "    </tr>\n",
       "</table>"
      ],
      "text/plain": [
       "[(533,)]"
      ]
     },
     "execution_count": 7,
     "metadata": {},
     "output_type": "execute_result"
    }
   ],
   "source": [
    "#Problem 1: Find the total number of crimes recorded in the CRIME table.\n",
    "\n",
    "%sql select count(*) from CHICAGO_CRIME_DATA;"
   ]
  },
  {
   "cell_type": "code",
   "execution_count": 8,
   "id": "1fdf496e",
   "metadata": {},
   "outputs": [
    {
     "name": "stdout",
     "output_type": "stream",
     "text": [
      " * ibm_db_sa://cpd04249:***@ea286ace-86c7-4d5b-8580-3fbfa46b1c66.bs2io90l08kqb1od8lcg.databases.appdomain.cloud:31505/bludb\n",
      "Done.\n"
     ]
    },
    {
     "data": {
      "text/html": [
       "<table>\n",
       "    <tr>\n",
       "        <th>community_area_name</th>\n",
       "    </tr>\n",
       "    <tr>\n",
       "        <td>West Garfield Park</td>\n",
       "    </tr>\n",
       "    <tr>\n",
       "        <td>South Lawndale</td>\n",
       "    </tr>\n",
       "    <tr>\n",
       "        <td>Fuller Park</td>\n",
       "    </tr>\n",
       "    <tr>\n",
       "        <td>Riverdale</td>\n",
       "    </tr>\n",
       "</table>"
      ],
      "text/plain": [
       "[('West Garfield Park',),\n",
       " ('South Lawndale',),\n",
       " ('Fuller Park',),\n",
       " ('Riverdale',)]"
      ]
     },
     "execution_count": 8,
     "metadata": {},
     "output_type": "execute_result"
    }
   ],
   "source": [
    "#Problem 2: List community areas with per capita income less than 11000.\n",
    "%sql select community_area_name from CENSUS_DATA where per_capita_income < 11000"
   ]
  },
  {
   "cell_type": "code",
   "execution_count": 9,
   "id": "44e99c66",
   "metadata": {},
   "outputs": [
    {
     "name": "stdout",
     "output_type": "stream",
     "text": [
      " * ibm_db_sa://cpd04249:***@ea286ace-86c7-4d5b-8580-3fbfa46b1c66.bs2io90l08kqb1od8lcg.databases.appdomain.cloud:31505/bludb\n",
      "Done.\n"
     ]
    },
    {
     "data": {
      "text/html": [
       "<table>\n",
       "    <tr>\n",
       "        <th>case_number</th>\n",
       "    </tr>\n",
       "    <tr>\n",
       "        <td>HL266884</td>\n",
       "    </tr>\n",
       "    <tr>\n",
       "        <td>HK238408</td>\n",
       "    </tr>\n",
       "</table>"
      ],
      "text/plain": [
       "[('HL266884',), ('HK238408',)]"
      ]
     },
     "execution_count": 9,
     "metadata": {},
     "output_type": "execute_result"
    }
   ],
   "source": [
    "#Problem 3: List all case numbers for crimes involving minors?\n",
    "%sql select case_number from CHICAGO_CRIME_DATA where description like '%MINOR%';"
   ]
  },
  {
   "cell_type": "code",
   "execution_count": 99,
   "id": "4c5438b5",
   "metadata": {},
   "outputs": [
    {
     "name": "stdout",
     "output_type": "stream",
     "text": [
      " * ibm_db_sa://cpd04249:***@ea286ace-86c7-4d5b-8580-3fbfa46b1c66.bs2io90l08kqb1od8lcg.databases.appdomain.cloud:31505/bludb\n",
      "   sqlite:///RealWorldData.db\n",
      "Done.\n"
     ]
    },
    {
     "data": {
      "text/html": [
       "<table>\n",
       "    <tr>\n",
       "        <th>id</th>\n",
       "        <th>case_number</th>\n",
       "        <th>DATE</th>\n",
       "        <th>block</th>\n",
       "        <th>iucr</th>\n",
       "        <th>primary_type</th>\n",
       "        <th>description</th>\n",
       "        <th>location_description</th>\n",
       "        <th>arrest</th>\n",
       "        <th>domestic</th>\n",
       "        <th>beat</th>\n",
       "        <th>district</th>\n",
       "        <th>ward</th>\n",
       "        <th>community_area_number</th>\n",
       "        <th>fbicode</th>\n",
       "        <th>x_coordinate</th>\n",
       "        <th>y_coordinate</th>\n",
       "        <th>YEAR</th>\n",
       "        <th>latitude</th>\n",
       "        <th>longitude</th>\n",
       "        <th>location</th>\n",
       "    </tr>\n",
       "    <tr>\n",
       "        <td>5276766</td>\n",
       "        <td>HN144152</td>\n",
       "        <td>2007-01-26</td>\n",
       "        <td>050XX W VAN BUREN ST</td>\n",
       "        <td>1792</td>\n",
       "        <td>KIDNAPPING</td>\n",
       "        <td>CHILD ABDUCTION/STRANGER</td>\n",
       "        <td>STREET</td>\n",
       "        <td>FALSE</td>\n",
       "        <td>FALSE</td>\n",
       "        <td>1533</td>\n",
       "        <td>15</td>\n",
       "        <td>29</td>\n",
       "        <td>25</td>\n",
       "        <td>20</td>\n",
       "        <td>1143050</td>\n",
       "        <td>1897546</td>\n",
       "        <td>2007</td>\n",
       "        <td>41.87490841</td>\n",
       "        <td>-87.75024931</td>\n",
       "        <td>(41.874908413, -87.750249307)</td>\n",
       "    </tr>\n",
       "</table>"
      ],
      "text/plain": [
       "[(5276766, 'HN144152', datetime.date(2007, 1, 26), '050XX W VAN BUREN ST', '1792', 'KIDNAPPING', 'CHILD ABDUCTION/STRANGER', 'STREET', 'FALSE', 'FALSE', 1533, 15, 29, 25, '20', 1143050, 1897546, 2007, Decimal('41.87490841'), Decimal('-87.75024931'), '(41.874908413, -87.750249307)')]"
      ]
     },
     "execution_count": 99,
     "metadata": {},
     "output_type": "execute_result"
    }
   ],
   "source": [
    "# Problem 4: List all kidnapping crimes involving a child?(children are not considered minors for the purposes of crime analysis)\n",
    "%sql select * from CHICAGO_CRIME_DATA where primary_type='KIDNAPPING' and description like '%CHILD%';"
   ]
  },
  {
   "cell_type": "code",
   "execution_count": 11,
   "id": "43271dde",
   "metadata": {},
   "outputs": [
    {
     "name": "stdout",
     "output_type": "stream",
     "text": [
      " * ibm_db_sa://cpd04249:***@ea286ace-86c7-4d5b-8580-3fbfa46b1c66.bs2io90l08kqb1od8lcg.databases.appdomain.cloud:31505/bludb\n",
      "Done.\n"
     ]
    },
    {
     "data": {
      "text/html": [
       "<table>\n",
       "    <tr>\n",
       "        <th>primary_type</th>\n",
       "    </tr>\n",
       "    <tr>\n",
       "        <td>ASSAULT</td>\n",
       "    </tr>\n",
       "    <tr>\n",
       "        <td>BATTERY</td>\n",
       "    </tr>\n",
       "    <tr>\n",
       "        <td>CRIMINAL DAMAGE</td>\n",
       "    </tr>\n",
       "    <tr>\n",
       "        <td>CRIMINAL TRESPA</td>\n",
       "    </tr>\n",
       "    <tr>\n",
       "        <td>NARCOTICS</td>\n",
       "    </tr>\n",
       "    <tr>\n",
       "        <td>PUBLIC PEACE VI</td>\n",
       "    </tr>\n",
       "</table>"
      ],
      "text/plain": [
       "[('ASSAULT',),\n",
       " ('BATTERY',),\n",
       " ('CRIMINAL DAMAGE',),\n",
       " ('CRIMINAL TRESPA',),\n",
       " ('NARCOTICS',),\n",
       " ('PUBLIC PEACE VI',)]"
      ]
     },
     "execution_count": 11,
     "metadata": {},
     "output_type": "execute_result"
    }
   ],
   "source": [
    "# Problem 5: What kind of crimes were recorded at schools?\n",
    "%sql select distinct(primary_type) from CHICAGO_CRIME_DATA where location_description like '%SCHOOL%';"
   ]
  },
  {
   "cell_type": "code",
   "execution_count": 53,
   "id": "9f3ad6cb",
   "metadata": {},
   "outputs": [
    {
     "name": "stdout",
     "output_type": "stream",
     "text": [
      "   ibm_db_sa://cpd04249:***@ea286ace-86c7-4d5b-8580-3fbfa46b1c66.bs2io90l08kqb1od8lcg.databases.appdomain.cloud:31505/bludb\n",
      " * sqlite:///RealWorldData.db\n",
      "Done.\n"
     ]
    },
    {
     "data": {
      "text/html": [
       "<table>\n",
       "    <tr>\n",
       "        <th>&#x27;Elementary, Middle, or High School&#x27;</th>\n",
       "    </tr>\n",
       "    <tr>\n",
       "        <td>Elementary, Middle, or High School</td>\n",
       "    </tr>\n",
       "    <tr>\n",
       "        <td>Elementary, Middle, or High School</td>\n",
       "    </tr>\n",
       "    <tr>\n",
       "        <td>Elementary, Middle, or High School</td>\n",
       "    </tr>\n",
       "    <tr>\n",
       "        <td>Elementary, Middle, or High School</td>\n",
       "    </tr>\n",
       "    <tr>\n",
       "        <td>Elementary, Middle, or High School</td>\n",
       "    </tr>\n",
       "</table>"
      ],
      "text/plain": [
       "[('Elementary, Middle, or High School',),\n",
       " ('Elementary, Middle, or High School',),\n",
       " ('Elementary, Middle, or High School',),\n",
       " ('Elementary, Middle, or High School',),\n",
       " ('Elementary, Middle, or High School',)]"
      ]
     },
     "execution_count": 53,
     "metadata": {},
     "output_type": "execute_result"
    }
   ],
   "source": [
    "#Problem 6: List the average safety score for all types of schools.\n",
    "%sql select 'Elementary, Middle, or High School' from CHICAGO_PUBLIC_SCHOOLS limit 5"
   ]
  },
  {
   "cell_type": "code",
   "execution_count": 40,
   "id": "893f8531",
   "metadata": {},
   "outputs": [
    {
     "name": "stderr",
     "output_type": "stream",
     "text": [
      "C:\\Users\\taori\\anaconda3\\lib\\site-packages\\pandas\\core\\generic.py:2605: UserWarning: The spaces in these column names will not be changed. In pandas versions < 0.14, spaces were converted to underscores.\n",
      "  sql.to_sql(\n"
     ]
    }
   ],
   "source": [
    "import csv, sqlite3\n",
    "\n",
    "con = sqlite3.connect(\"RealWorldData.db\")\n",
    "cur = con.cursor()\n",
    "\n",
    "import pandas\n",
    "df = pandas.read_csv(\"https://cf-courses-data.s3.us.cloud-object-storage.appdomain.cloud/IBMDeveloperSkillsNetwork-DB0201EN-SkillsNetwork/labs/FinalModule_Coursera_V5/data/ChicagoPublicSchools.csv\")\n",
    "df.to_sql(\"CHICAGO_PUBLIC_SCHOOLS\", con, if_exists='replace', index=False,method=\"multi\")\n",
    "%sql sqlite:///RealWorldData.db"
   ]
  },
  {
   "cell_type": "code",
   "execution_count": 59,
   "id": "926d98c4",
   "metadata": {},
   "outputs": [
    {
     "data": {
      "text/plain": [
       "Elementary, Middle, or High School\n",
       "ES    49.520384\n",
       "HS    49.623529\n",
       "MS    48.000000\n",
       "Name: SAFETY_SCORE, dtype: float64"
      ]
     },
     "execution_count": 59,
     "metadata": {},
     "output_type": "execute_result"
    }
   ],
   "source": [
    "result = df.groupby(['Elementary, Middle, or High School']).mean('safety_score')\n",
    "result['SAFETY_SCORE']"
   ]
  },
  {
   "cell_type": "code",
   "execution_count": 64,
   "id": "25da8fbf",
   "metadata": {},
   "outputs": [
    {
     "name": "stdout",
     "output_type": "stream",
     "text": [
      "   ibm_db_sa://cpd04249:***@ea286ace-86c7-4d5b-8580-3fbfa46b1c66.bs2io90l08kqb1od8lcg.databases.appdomain.cloud:31505/bludb\n",
      " * sqlite:///RealWorldData.db\n",
      "Done.\n"
     ]
    },
    {
     "data": {
      "text/html": [
       "<table>\n",
       "    <tr>\n",
       "        <th>COMMUNITY_AREA_NAME</th>\n",
       "    </tr>\n",
       "    <tr>\n",
       "        <td>Riverdale</td>\n",
       "    </tr>\n",
       "    <tr>\n",
       "        <td>Fuller Park</td>\n",
       "    </tr>\n",
       "    <tr>\n",
       "        <td>Englewood</td>\n",
       "    </tr>\n",
       "    <tr>\n",
       "        <td>North Lawndale</td>\n",
       "    </tr>\n",
       "    <tr>\n",
       "        <td>East Garfield Park</td>\n",
       "    </tr>\n",
       "</table>"
      ],
      "text/plain": [
       "[('Riverdale',),\n",
       " ('Fuller Park',),\n",
       " ('Englewood',),\n",
       " ('North Lawndale',),\n",
       " ('East Garfield Park',)]"
      ]
     },
     "execution_count": 64,
     "metadata": {},
     "output_type": "execute_result"
    }
   ],
   "source": [
    "#Problem 7: List 5 community areas with highest % of households below poverty line\n",
    "%sql select community_area_name from CENSUS_DATA\\\n",
    "order by percent_households_below_poverty desc limit 5;"
   ]
  },
  {
   "cell_type": "code",
   "execution_count": 83,
   "id": "ce6b200e",
   "metadata": {},
   "outputs": [
    {
     "name": "stdout",
     "output_type": "stream",
     "text": [
      " * ibm_db_sa://cpd04249:***@ea286ace-86c7-4d5b-8580-3fbfa46b1c66.bs2io90l08kqb1od8lcg.databases.appdomain.cloud:31505/bludb\n",
      "   sqlite:///RealWorldData.db\n",
      "Done.\n"
     ]
    },
    {
     "data": {
      "text/html": [
       "<table>\n",
       "    <tr>\n",
       "        <th>community_area_number</th>\n",
       "        <th>frequency</th>\n",
       "    </tr>\n",
       "    <tr>\n",
       "        <td>25</td>\n",
       "        <td>43</td>\n",
       "    </tr>\n",
       "</table>"
      ],
      "text/plain": [
       "[(25, 43)]"
      ]
     },
     "execution_count": 83,
     "metadata": {},
     "output_type": "execute_result"
    }
   ],
   "source": [
    "#Problem 8: Which community area is most crime prone?\n",
    "%sql SELECT community_area_number,COUNT(community_area_number) as FREQUENCY FROM CHICAGO_CRIME_DATA\\\n",
    "GROUP BY community_area_number\\\n",
    "ORDER BY COUNT(community_area_number) DESC\\\n",
    "LIMIT 1;"
   ]
  },
  {
   "cell_type": "code",
   "execution_count": 90,
   "id": "6f5b5f36",
   "metadata": {},
   "outputs": [
    {
     "name": "stdout",
     "output_type": "stream",
     "text": [
      " * ibm_db_sa://cpd04249:***@ea286ace-86c7-4d5b-8580-3fbfa46b1c66.bs2io90l08kqb1od8lcg.databases.appdomain.cloud:31505/bludb\n",
      "   sqlite:///RealWorldData.db\n",
      "Done.\n"
     ]
    },
    {
     "data": {
      "text/html": [
       "<table>\n",
       "    <tr>\n",
       "        <th>community_area_name</th>\n",
       "    </tr>\n",
       "    <tr>\n",
       "        <td>Riverdale</td>\n",
       "    </tr>\n",
       "</table>"
      ],
      "text/plain": [
       "[('Riverdale',)]"
      ]
     },
     "execution_count": 90,
     "metadata": {},
     "output_type": "execute_result"
    }
   ],
   "source": [
    "#Problem 9: Use a sub-query to find the name of the community area with highest hardship index\n",
    "%sql SELECT community_area_name FROM  CENSUS_DATA WHERE hardship_index = (SELECT MAX(hardship_index) FROM CENSUS_DATA);"
   ]
  },
  {
   "cell_type": "code",
   "execution_count": 96,
   "id": "2c90e618",
   "metadata": {},
   "outputs": [
    {
     "name": "stdout",
     "output_type": "stream",
     "text": [
      " * ibm_db_sa://cpd04249:***@ea286ace-86c7-4d5b-8580-3fbfa46b1c66.bs2io90l08kqb1od8lcg.databases.appdomain.cloud:31505/bludb\n",
      "   sqlite:///RealWorldData.db\n",
      "Done.\n"
     ]
    },
    {
     "data": {
      "text/html": [
       "<table>\n",
       "    <tr>\n",
       "        <th>community_area_name</th>\n",
       "    </tr>\n",
       "    <tr>\n",
       "        <td>Austin</td>\n",
       "    </tr>\n",
       "</table>"
      ],
      "text/plain": [
       "[('Austin',)]"
      ]
     },
     "execution_count": 96,
     "metadata": {},
     "output_type": "execute_result"
    }
   ],
   "source": [
    "# Problem 10 Use a sub-query to determine the Community Area Name with most number of crimes? \n",
    "%sql SELECT community_area_name FROM CENSUS_DATA\\\n",
    "WHERE community_area_number = (SELECT community_area_number FROM CHICAGO_CRIME_DATA GROUP BY community_area_number\\\n",
    "ORDER BY COUNT(community_area_number) DESC\\\n",
    "LIMIT 1)\\\n",
    "LIMIT 1;"
   ]
  }
 ],
 "metadata": {
  "kernelspec": {
   "display_name": "Python 3 (ipykernel)",
   "language": "python",
   "name": "python3"
  },
  "language_info": {
   "codemirror_mode": {
    "name": "ipython",
    "version": 3
   },
   "file_extension": ".py",
   "mimetype": "text/x-python",
   "name": "python",
   "nbconvert_exporter": "python",
   "pygments_lexer": "ipython3",
   "version": "3.9.12"
  }
 },
 "nbformat": 4,
 "nbformat_minor": 5
}
